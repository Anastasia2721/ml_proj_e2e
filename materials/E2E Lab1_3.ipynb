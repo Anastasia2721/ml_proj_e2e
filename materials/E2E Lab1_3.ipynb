{
 "cells": [
  {
   "cell_type": "markdown",
   "metadata": {
    "pycharm": {
     "name": "#%% md\n"
    }
   },
   "source": [
    "## Lab 1.3 - Predicting Real Estate Data in St. Petersburg\n",
    "We have data from Yandex.Realty classified https://realty.yandex.ru containing real estate listings for apartments in St. Petersburg and Leningrad Oblast from 2016 till the middle of August 2018. In this Lab you'll learn how to apply machine learning algorithms to solve business problems. Accurate price prediction can help to find fraudsters automatically and help Yandex.Realty users to make better decisions when buying and selling real estate.\n",
    "\n",
    "Using python with machine learning algotithms is the #1 option for prototyping solutions among data scientists today. We'll take a look at it in this lab.\n",
    "\n",
    "### Main objectives\n",
    "After successful completion of the lab work students will be able to:\n",
    "-\tApply machine learning for solving price prediction problem\n",
    "-   Calculate metrics which can help us find out whether our machine learning model is ready for production\n",
    "\n",
    "### Tasks\n",
    "-\tEncode dataset\n",
    "-\tSplit dataset to train and validation datasets\n",
    "-\tApply decision tree algorithm to build ML (machine learning) model for price predictions\n",
    "-   Calculate metrics\n",
    "-   Try other algorithms and factors to get a better solution \n"
   ]
  },
  {
   "cell_type": "markdown",
   "metadata": {
    "pycharm": {
     "name": "#%% md\n"
    }
   },
   "source": [
    "### 1. Load data with real estate prices"
   ]
  },
  {
   "cell_type": "code",
   "execution_count": 1,
   "metadata": {
    "pycharm": {
     "name": "#%%\n"
    }
   },
   "outputs": [],
   "source": [
    "# let's import pandas library and set options to be able to view data right in the browser\n",
    "import pandas as pd\n",
    "import seaborn as sns\n",
    "import scipy.stats as stats\n",
    "import matplotlib.style as style\n",
    "from matplotlib import pyplot as plt\n",
    "pd.set_option('display.max_columns', 500)\n",
    "pd.set_option('display.width', 1000)\n",
    "pd.set_option('display.max_colwidth', 1000)\n",
    "style.use('fivethirtyeight')\n",
    "import numpy as np"
   ]
  },
  {
   "cell_type": "code",
   "execution_count": 2,
   "metadata": {
    "pycharm": {
     "name": "#%%\n"
    }
   },
   "outputs": [],
   "source": [
    "rent_df_cleaned = pd.read_csv('E2E cleaned_dataset.csv')"
   ]
  },
  {
   "cell_type": "code",
   "execution_count": 3,
   "metadata": {
    "pycharm": {
     "name": "#%%\n"
    }
   },
   "outputs": [
    {
     "data": {
      "text/html": [
       "<div>\n",
       "<style scoped>\n",
       "    .dataframe tbody tr th:only-of-type {\n",
       "        vertical-align: middle;\n",
       "    }\n",
       "\n",
       "    .dataframe tbody tr th {\n",
       "        vertical-align: top;\n",
       "    }\n",
       "\n",
       "    .dataframe thead th {\n",
       "        text-align: right;\n",
       "    }\n",
       "</style>\n",
       "<table border=\"1\" class=\"dataframe\">\n",
       "  <thead>\n",
       "    <tr style=\"text-align: right;\">\n",
       "      <th></th>\n",
       "      <th>first_day_exposition</th>\n",
       "      <th>last_day_exposition</th>\n",
       "      <th>last_price</th>\n",
       "      <th>floor</th>\n",
       "      <th>open_plan</th>\n",
       "      <th>rooms</th>\n",
       "      <th>studio</th>\n",
       "      <th>area</th>\n",
       "      <th>kitchen_area</th>\n",
       "      <th>living_area</th>\n",
       "      <th>renovation</th>\n",
       "      <th>building_id</th>\n",
       "      <th>last_price_log</th>\n",
       "    </tr>\n",
       "  </thead>\n",
       "  <tbody>\n",
       "    <tr>\n",
       "      <th>0</th>\n",
       "      <td>2015-01-24T00:00:00+03:00</td>\n",
       "      <td>2016-01-19T00:00:00+03:00</td>\n",
       "      <td>20000.0</td>\n",
       "      <td>7</td>\n",
       "      <td>0</td>\n",
       "      <td>1</td>\n",
       "      <td>0</td>\n",
       "      <td>28.0</td>\n",
       "      <td>8.0</td>\n",
       "      <td>20.0</td>\n",
       "      <td>3.0</td>\n",
       "      <td>6719200042030752141</td>\n",
       "      <td>9.903488</td>\n",
       "    </tr>\n",
       "    <tr>\n",
       "      <th>1</th>\n",
       "      <td>2015-11-17T00:00:00+03:00</td>\n",
       "      <td>2016-03-04T00:00:00+03:00</td>\n",
       "      <td>24000.0</td>\n",
       "      <td>4</td>\n",
       "      <td>0</td>\n",
       "      <td>2</td>\n",
       "      <td>0</td>\n",
       "      <td>59.0</td>\n",
       "      <td>10.0</td>\n",
       "      <td>35.0</td>\n",
       "      <td>3.0</td>\n",
       "      <td>6719200042030752141</td>\n",
       "      <td>10.085809</td>\n",
       "    </tr>\n",
       "    <tr>\n",
       "      <th>2</th>\n",
       "      <td>2015-11-17T00:00:00+03:00</td>\n",
       "      <td>2016-04-24T00:00:00+03:00</td>\n",
       "      <td>18000.0</td>\n",
       "      <td>6</td>\n",
       "      <td>0</td>\n",
       "      <td>1</td>\n",
       "      <td>0</td>\n",
       "      <td>36.0</td>\n",
       "      <td>9.0</td>\n",
       "      <td>17.0</td>\n",
       "      <td>3.0</td>\n",
       "      <td>6719200042030752141</td>\n",
       "      <td>9.798127</td>\n",
       "    </tr>\n",
       "    <tr>\n",
       "      <th>3</th>\n",
       "      <td>2016-02-04T00:00:00+03:00</td>\n",
       "      <td>2016-02-28T00:00:00+03:00</td>\n",
       "      <td>18000.0</td>\n",
       "      <td>8</td>\n",
       "      <td>0</td>\n",
       "      <td>1</td>\n",
       "      <td>0</td>\n",
       "      <td>39.0</td>\n",
       "      <td>10.0</td>\n",
       "      <td>18.0</td>\n",
       "      <td>0.0</td>\n",
       "      <td>6719200042030752141</td>\n",
       "      <td>9.798127</td>\n",
       "    </tr>\n",
       "    <tr>\n",
       "      <th>4</th>\n",
       "      <td>2016-02-28T00:00:00+03:00</td>\n",
       "      <td>2016-04-02T00:00:00+03:00</td>\n",
       "      <td>19000.0</td>\n",
       "      <td>3</td>\n",
       "      <td>0</td>\n",
       "      <td>1</td>\n",
       "      <td>0</td>\n",
       "      <td>36.0</td>\n",
       "      <td>8.0</td>\n",
       "      <td>18.0</td>\n",
       "      <td>11.0</td>\n",
       "      <td>6719200042030752141</td>\n",
       "      <td>9.852194</td>\n",
       "    </tr>\n",
       "  </tbody>\n",
       "</table>\n",
       "</div>"
      ],
      "text/plain": [
       "        first_day_exposition        last_day_exposition  last_price  floor  open_plan  rooms  studio  area  kitchen_area  living_area  renovation          building_id  last_price_log\n",
       "0  2015-01-24T00:00:00+03:00  2016-01-19T00:00:00+03:00     20000.0      7          0      1       0  28.0           8.0         20.0         3.0  6719200042030752141        9.903488\n",
       "1  2015-11-17T00:00:00+03:00  2016-03-04T00:00:00+03:00     24000.0      4          0      2       0  59.0          10.0         35.0         3.0  6719200042030752141       10.085809\n",
       "2  2015-11-17T00:00:00+03:00  2016-04-24T00:00:00+03:00     18000.0      6          0      1       0  36.0           9.0         17.0         3.0  6719200042030752141        9.798127\n",
       "3  2016-02-04T00:00:00+03:00  2016-02-28T00:00:00+03:00     18000.0      8          0      1       0  39.0          10.0         18.0         0.0  6719200042030752141        9.798127\n",
       "4  2016-02-28T00:00:00+03:00  2016-04-02T00:00:00+03:00     19000.0      3          0      1       0  36.0           8.0         18.0        11.0  6719200042030752141        9.852194"
      ]
     },
     "execution_count": 3,
     "metadata": {},
     "output_type": "execute_result"
    }
   ],
   "source": [
    "rent_df_cleaned.head()"
   ]
  },
  {
   "cell_type": "code",
   "execution_count": 4,
   "metadata": {
    "pycharm": {
     "name": "#%%\n"
    }
   },
   "outputs": [],
   "source": [
    "rent_df_cleaned.drop(columns=['floor', 'studio', 'kitchen_area', 'living_area', 'building_id'], inplace=True)"
   ]
  },
  {
   "cell_type": "code",
   "execution_count": 5,
   "metadata": {
    "pycharm": {
     "name": "#%%\n"
    }
   },
   "outputs": [
    {
     "data": {
      "text/html": [
       "<div>\n",
       "<style scoped>\n",
       "    .dataframe tbody tr th:only-of-type {\n",
       "        vertical-align: middle;\n",
       "    }\n",
       "\n",
       "    .dataframe tbody tr th {\n",
       "        vertical-align: top;\n",
       "    }\n",
       "\n",
       "    .dataframe thead th {\n",
       "        text-align: right;\n",
       "    }\n",
       "</style>\n",
       "<table border=\"1\" class=\"dataframe\">\n",
       "  <thead>\n",
       "    <tr style=\"text-align: right;\">\n",
       "      <th></th>\n",
       "      <th>first_day_exposition</th>\n",
       "      <th>last_day_exposition</th>\n",
       "      <th>last_price</th>\n",
       "      <th>open_plan</th>\n",
       "      <th>rooms</th>\n",
       "      <th>area</th>\n",
       "      <th>renovation</th>\n",
       "      <th>last_price_log</th>\n",
       "    </tr>\n",
       "  </thead>\n",
       "  <tbody>\n",
       "    <tr>\n",
       "      <th>0</th>\n",
       "      <td>2015-01-24T00:00:00+03:00</td>\n",
       "      <td>2016-01-19T00:00:00+03:00</td>\n",
       "      <td>20000.0</td>\n",
       "      <td>0</td>\n",
       "      <td>1</td>\n",
       "      <td>28.0</td>\n",
       "      <td>3.0</td>\n",
       "      <td>9.903488</td>\n",
       "    </tr>\n",
       "    <tr>\n",
       "      <th>1</th>\n",
       "      <td>2015-11-17T00:00:00+03:00</td>\n",
       "      <td>2016-03-04T00:00:00+03:00</td>\n",
       "      <td>24000.0</td>\n",
       "      <td>0</td>\n",
       "      <td>2</td>\n",
       "      <td>59.0</td>\n",
       "      <td>3.0</td>\n",
       "      <td>10.085809</td>\n",
       "    </tr>\n",
       "    <tr>\n",
       "      <th>2</th>\n",
       "      <td>2015-11-17T00:00:00+03:00</td>\n",
       "      <td>2016-04-24T00:00:00+03:00</td>\n",
       "      <td>18000.0</td>\n",
       "      <td>0</td>\n",
       "      <td>1</td>\n",
       "      <td>36.0</td>\n",
       "      <td>3.0</td>\n",
       "      <td>9.798127</td>\n",
       "    </tr>\n",
       "    <tr>\n",
       "      <th>3</th>\n",
       "      <td>2016-02-04T00:00:00+03:00</td>\n",
       "      <td>2016-02-28T00:00:00+03:00</td>\n",
       "      <td>18000.0</td>\n",
       "      <td>0</td>\n",
       "      <td>1</td>\n",
       "      <td>39.0</td>\n",
       "      <td>0.0</td>\n",
       "      <td>9.798127</td>\n",
       "    </tr>\n",
       "    <tr>\n",
       "      <th>4</th>\n",
       "      <td>2016-02-28T00:00:00+03:00</td>\n",
       "      <td>2016-04-02T00:00:00+03:00</td>\n",
       "      <td>19000.0</td>\n",
       "      <td>0</td>\n",
       "      <td>1</td>\n",
       "      <td>36.0</td>\n",
       "      <td>11.0</td>\n",
       "      <td>9.852194</td>\n",
       "    </tr>\n",
       "  </tbody>\n",
       "</table>\n",
       "</div>"
      ],
      "text/plain": [
       "        first_day_exposition        last_day_exposition  last_price  open_plan  rooms  area  renovation  last_price_log\n",
       "0  2015-01-24T00:00:00+03:00  2016-01-19T00:00:00+03:00     20000.0          0      1  28.0         3.0        9.903488\n",
       "1  2015-11-17T00:00:00+03:00  2016-03-04T00:00:00+03:00     24000.0          0      2  59.0         3.0       10.085809\n",
       "2  2015-11-17T00:00:00+03:00  2016-04-24T00:00:00+03:00     18000.0          0      1  36.0         3.0        9.798127\n",
       "3  2016-02-04T00:00:00+03:00  2016-02-28T00:00:00+03:00     18000.0          0      1  39.0         0.0        9.798127\n",
       "4  2016-02-28T00:00:00+03:00  2016-04-02T00:00:00+03:00     19000.0          0      1  36.0        11.0        9.852194"
      ]
     },
     "execution_count": 5,
     "metadata": {},
     "output_type": "execute_result"
    }
   ],
   "source": [
    "rent_df_cleaned.head()"
   ]
  },
  {
   "cell_type": "code",
   "execution_count": 6,
   "metadata": {
    "pycharm": {
     "name": "#%%\n"
    }
   },
   "outputs": [
    {
     "data": {
      "text/plain": [
       "155391"
      ]
     },
     "execution_count": 6,
     "metadata": {},
     "output_type": "execute_result"
    }
   ],
   "source": [
    "len(rent_df_cleaned)"
   ]
  },
  {
   "cell_type": "markdown",
   "metadata": {
    "pycharm": {
     "name": "#%% md\n"
    }
   },
   "source": [
    "### Create datasets training, testing and a holdout dataset.\n",
    "We need a holdout dataset to assess the final quality of the algorithm. When several teams create their models based on different models and factors, holdout dataset is used to compare results.\n",
    "Testing dataset can be used to test models and tune hyperparameters.\n",
    "Since our model will be used to predict prices for new offers based on the old data, it's a good option to select split by time instead of just random split."
   ]
  },
  {
   "cell_type": "code",
   "execution_count": 7,
   "metadata": {
    "pycharm": {
     "name": "#%%\n"
    }
   },
   "outputs": [],
   "source": [
    "# select all offers added the first 3 months of 2018 as train dataset.\n",
    "# '&' means 'and' and should be used when both conditions are satisfied\n",
    "# pay attention that it's better always to put conditions in brackets to embrace the right priority of operations\n",
    "train_df = rent_df_cleaned[(rent_df_cleaned.first_day_exposition >= '2018-01-01') \n",
    "                          & (rent_df_cleaned.first_day_exposition < '2018-04-01')]"
   ]
  },
  {
   "cell_type": "code",
   "execution_count": 8,
   "metadata": {
    "pycharm": {
     "name": "#%%\n"
    }
   },
   "outputs": [
    {
     "data": {
      "text/plain": [
       "16974"
      ]
     },
     "execution_count": 8,
     "metadata": {},
     "output_type": "execute_result"
    }
   ],
   "source": [
    "len(train_df)"
   ]
  },
  {
   "cell_type": "code",
   "execution_count": 9,
   "metadata": {
    "pycharm": {
     "name": "#%%\n"
    }
   },
   "outputs": [],
   "source": [
    "# select all offers added in april and may 2018 as test dataset.\n",
    "test_df = rent_df_cleaned[(rent_df_cleaned.first_day_exposition >= '2018-04-01') \n",
    "                          & (rent_df_cleaned.first_day_exposition < '2018-06-01')]"
   ]
  },
  {
   "cell_type": "code",
   "execution_count": 10,
   "metadata": {
    "pycharm": {
     "name": "#%%\n"
    }
   },
   "outputs": [
    {
     "data": {
      "text/plain": [
       "14974"
      ]
     },
     "execution_count": 10,
     "metadata": {},
     "output_type": "execute_result"
    }
   ],
   "source": [
    "len(test_df)"
   ]
  },
  {
   "cell_type": "code",
   "execution_count": 11,
   "metadata": {
    "pycharm": {
     "name": "#%%\n"
    }
   },
   "outputs": [],
   "source": [
    "# let's use latest data from 2018-06-01 as a hodout dataset to simulate how algorithms would\n",
    "# behave in production\n",
    "holdout_df = rent_df_cleaned[rent_df_cleaned.first_day_exposition >= '2018-06-01']"
   ]
  },
  {
   "cell_type": "code",
   "execution_count": 12,
   "metadata": {
    "pycharm": {
     "name": "#%%\n"
    }
   },
   "outputs": [
    {
     "data": {
      "text/plain": [
       "21112"
      ]
     },
     "execution_count": 12,
     "metadata": {},
     "output_type": "execute_result"
    }
   ],
   "source": [
    "len(holdout_df)"
   ]
  },
  {
   "cell_type": "code",
   "execution_count": 13,
   "metadata": {
    "pycharm": {
     "name": "#%%\n"
    }
   },
   "outputs": [
    {
     "data": {
      "text/html": [
       "<div>\n",
       "<style scoped>\n",
       "    .dataframe tbody tr th:only-of-type {\n",
       "        vertical-align: middle;\n",
       "    }\n",
       "\n",
       "    .dataframe tbody tr th {\n",
       "        vertical-align: top;\n",
       "    }\n",
       "\n",
       "    .dataframe thead th {\n",
       "        text-align: right;\n",
       "    }\n",
       "</style>\n",
       "<table border=\"1\" class=\"dataframe\">\n",
       "  <thead>\n",
       "    <tr style=\"text-align: right;\">\n",
       "      <th></th>\n",
       "      <th>first_day_exposition</th>\n",
       "      <th>last_day_exposition</th>\n",
       "      <th>last_price</th>\n",
       "      <th>open_plan</th>\n",
       "      <th>rooms</th>\n",
       "      <th>area</th>\n",
       "      <th>renovation</th>\n",
       "      <th>last_price_log</th>\n",
       "    </tr>\n",
       "  </thead>\n",
       "  <tbody>\n",
       "    <tr>\n",
       "      <th>8</th>\n",
       "      <td>2018-01-05T00:00:00+03:00</td>\n",
       "      <td>2018-01-16T00:00:00+03:00</td>\n",
       "      <td>26000.0</td>\n",
       "      <td>0</td>\n",
       "      <td>1</td>\n",
       "      <td>36.0</td>\n",
       "      <td>0.0</td>\n",
       "      <td>10.165852</td>\n",
       "    </tr>\n",
       "    <tr>\n",
       "      <th>24</th>\n",
       "      <td>2018-01-20T00:00:00+03:00</td>\n",
       "      <td>2018-02-28T00:00:00+03:00</td>\n",
       "      <td>17500.0</td>\n",
       "      <td>0</td>\n",
       "      <td>1</td>\n",
       "      <td>32.0</td>\n",
       "      <td>1.0</td>\n",
       "      <td>9.769956</td>\n",
       "    </tr>\n",
       "    <tr>\n",
       "      <th>25</th>\n",
       "      <td>2018-02-09T00:00:00+03:00</td>\n",
       "      <td>2018-03-03T00:00:00+03:00</td>\n",
       "      <td>16000.0</td>\n",
       "      <td>0</td>\n",
       "      <td>1</td>\n",
       "      <td>38.0</td>\n",
       "      <td>0.0</td>\n",
       "      <td>9.680344</td>\n",
       "    </tr>\n",
       "    <tr>\n",
       "      <th>26</th>\n",
       "      <td>2018-03-19T00:00:00+03:00</td>\n",
       "      <td>2018-04-18T00:00:00+03:00</td>\n",
       "      <td>22000.0</td>\n",
       "      <td>0</td>\n",
       "      <td>1</td>\n",
       "      <td>32.0</td>\n",
       "      <td>0.0</td>\n",
       "      <td>9.998798</td>\n",
       "    </tr>\n",
       "    <tr>\n",
       "      <th>27</th>\n",
       "      <td>2018-03-26T00:00:00+03:00</td>\n",
       "      <td>2018-03-30T00:00:00+03:00</td>\n",
       "      <td>20000.0</td>\n",
       "      <td>0</td>\n",
       "      <td>1</td>\n",
       "      <td>32.0</td>\n",
       "      <td>0.0</td>\n",
       "      <td>9.903488</td>\n",
       "    </tr>\n",
       "  </tbody>\n",
       "</table>\n",
       "</div>"
      ],
      "text/plain": [
       "         first_day_exposition        last_day_exposition  last_price  open_plan  rooms  area  renovation  last_price_log\n",
       "8   2018-01-05T00:00:00+03:00  2018-01-16T00:00:00+03:00     26000.0          0      1  36.0         0.0       10.165852\n",
       "24  2018-01-20T00:00:00+03:00  2018-02-28T00:00:00+03:00     17500.0          0      1  32.0         1.0        9.769956\n",
       "25  2018-02-09T00:00:00+03:00  2018-03-03T00:00:00+03:00     16000.0          0      1  38.0         0.0        9.680344\n",
       "26  2018-03-19T00:00:00+03:00  2018-04-18T00:00:00+03:00     22000.0          0      1  32.0         0.0        9.998798\n",
       "27  2018-03-26T00:00:00+03:00  2018-03-30T00:00:00+03:00     20000.0          0      1  32.0         0.0        9.903488"
      ]
     },
     "execution_count": 13,
     "metadata": {},
     "output_type": "execute_result"
    }
   ],
   "source": [
    "train_df.head()"
   ]
  },
  {
   "cell_type": "code",
   "execution_count": 14,
   "metadata": {
    "pycharm": {
     "name": "#%%\n"
    }
   },
   "outputs": [
    {
     "name": "stderr",
     "output_type": "stream",
     "text": [
      "/opt/conda/lib/python3.8/site-packages/pandas/core/frame.py:4167: SettingWithCopyWarning: \n",
      "A value is trying to be set on a copy of a slice from a DataFrame\n",
      "\n",
      "See the caveats in the documentation: https://pandas.pydata.org/pandas-docs/stable/user_guide/indexing.html#returning-a-view-versus-a-copy\n",
      "  return super().drop(\n"
     ]
    }
   ],
   "source": [
    "train_df.drop(columns=['first_day_exposition','last_day_exposition','last_price_log' ], inplace=True)\n",
    "test_df.drop(columns=['first_day_exposition','last_day_exposition', 'last_price_log'], inplace=True)\n",
    "\n"
   ]
  },
  {
   "cell_type": "code",
   "execution_count": 15,
   "metadata": {
    "pycharm": {
     "name": "#%%\n"
    }
   },
   "outputs": [
    {
     "data": {
      "text/html": [
       "<div>\n",
       "<style scoped>\n",
       "    .dataframe tbody tr th:only-of-type {\n",
       "        vertical-align: middle;\n",
       "    }\n",
       "\n",
       "    .dataframe tbody tr th {\n",
       "        vertical-align: top;\n",
       "    }\n",
       "\n",
       "    .dataframe thead th {\n",
       "        text-align: right;\n",
       "    }\n",
       "</style>\n",
       "<table border=\"1\" class=\"dataframe\">\n",
       "  <thead>\n",
       "    <tr style=\"text-align: right;\">\n",
       "      <th></th>\n",
       "      <th>last_price</th>\n",
       "      <th>open_plan</th>\n",
       "      <th>rooms</th>\n",
       "      <th>area</th>\n",
       "      <th>renovation</th>\n",
       "    </tr>\n",
       "  </thead>\n",
       "  <tbody>\n",
       "    <tr>\n",
       "      <th>8</th>\n",
       "      <td>26000.0</td>\n",
       "      <td>0</td>\n",
       "      <td>1</td>\n",
       "      <td>36.0</td>\n",
       "      <td>0.0</td>\n",
       "    </tr>\n",
       "    <tr>\n",
       "      <th>24</th>\n",
       "      <td>17500.0</td>\n",
       "      <td>0</td>\n",
       "      <td>1</td>\n",
       "      <td>32.0</td>\n",
       "      <td>1.0</td>\n",
       "    </tr>\n",
       "    <tr>\n",
       "      <th>25</th>\n",
       "      <td>16000.0</td>\n",
       "      <td>0</td>\n",
       "      <td>1</td>\n",
       "      <td>38.0</td>\n",
       "      <td>0.0</td>\n",
       "    </tr>\n",
       "    <tr>\n",
       "      <th>26</th>\n",
       "      <td>22000.0</td>\n",
       "      <td>0</td>\n",
       "      <td>1</td>\n",
       "      <td>32.0</td>\n",
       "      <td>0.0</td>\n",
       "    </tr>\n",
       "    <tr>\n",
       "      <th>27</th>\n",
       "      <td>20000.0</td>\n",
       "      <td>0</td>\n",
       "      <td>1</td>\n",
       "      <td>32.0</td>\n",
       "      <td>0.0</td>\n",
       "    </tr>\n",
       "  </tbody>\n",
       "</table>\n",
       "</div>"
      ],
      "text/plain": [
       "    last_price  open_plan  rooms  area  renovation\n",
       "8      26000.0          0      1  36.0         0.0\n",
       "24     17500.0          0      1  32.0         1.0\n",
       "25     16000.0          0      1  38.0         0.0\n",
       "26     22000.0          0      1  32.0         0.0\n",
       "27     20000.0          0      1  32.0         0.0"
      ]
     },
     "execution_count": 15,
     "metadata": {},
     "output_type": "execute_result"
    }
   ],
   "source": [
    "train_df.head()"
   ]
  },
  {
   "cell_type": "code",
   "execution_count": 16,
   "metadata": {
    "pycharm": {
     "name": "#%%\n"
    }
   },
   "outputs": [],
   "source": [
    "## Building Decision Tree model"
   ]
  },
  {
   "cell_type": "code",
   "execution_count": 17,
   "metadata": {
    "pycharm": {
     "name": "#%%\n"
    }
   },
   "outputs": [],
   "source": [
    "from sklearn.tree import DecisionTreeRegressor, plot_tree\n",
    "from sklearn import metrics\n",
    "from sklearn.ensemble import RandomForestRegressor"
   ]
  },
  {
   "cell_type": "code",
   "execution_count": 18,
   "metadata": {
    "pycharm": {
     "name": "#%%\n"
    }
   },
   "outputs": [],
   "source": [
    "X_train = train_df.drop('last_price', axis=1)\n",
    "y_train = train_df['last_price']\n",
    "X_valid = test_df.drop('last_price', axis=1)\n",
    "y_valid = test_df['last_price']\n",
    "y_train= y_train.values.reshape(-1,1)\n",
    "y_valid= y_valid.values.reshape(-1,1)\n",
    "from sklearn.preprocessing import StandardScaler\n",
    "sc_X = StandardScaler()\n",
    "sc_y = StandardScaler()\n",
    "X_train = sc_X.fit_transform(X_train)\n",
    "X_valid = sc_X.fit_transform(X_valid)\n",
    "y_train = sc_y.fit_transform(y_train)\n",
    "y_valid = sc_y.fit_transform(y_valid)"
   ]
  },
  {
   "cell_type": "code",
   "execution_count": 19,
   "metadata": {
    "pycharm": {
     "name": "#%%\n"
    }
   },
   "outputs": [
    {
     "data": {
      "text/plain": [
       "((16974, 4), (16974, 1))"
      ]
     },
     "execution_count": 19,
     "metadata": {},
     "output_type": "execute_result"
    }
   ],
   "source": [
    "X_train.shape, y_train.shape"
   ]
  },
  {
   "cell_type": "code",
   "execution_count": 20,
   "metadata": {
    "pycharm": {
     "name": "#%%\n"
    }
   },
   "outputs": [
    {
     "data": {
      "text/plain": [
       "DecisionTreeRegressor(max_depth=3, random_state=17)"
      ]
     },
     "execution_count": 20,
     "metadata": {},
     "output_type": "execute_result"
    }
   ],
   "source": [
    "tree = DecisionTreeRegressor(max_depth=3, random_state=17)\n",
    "tree.fit(X_train, y_train)"
   ]
  },
  {
   "cell_type": "code",
   "execution_count": 21,
   "metadata": {
    "pycharm": {
     "name": "#%%\n"
    }
   },
   "outputs": [],
   "source": [
    "tree_predictions = tree.predict(X_valid)"
   ]
  },
  {
   "cell_type": "code",
   "execution_count": 22,
   "metadata": {
    "pycharm": {
     "name": "#%%\n"
    }
   },
   "outputs": [
    {
     "data": {
      "text/plain": [
       "array([-0.43454727, -0.14274893,  0.68336197, -0.14274893, -0.14274893])"
      ]
     },
     "execution_count": 22,
     "metadata": {},
     "output_type": "execute_result"
    }
   ],
   "source": [
    "tree_predictions[:5]"
   ]
  },
  {
   "cell_type": "code",
   "execution_count": 23,
   "metadata": {
    "pycharm": {
     "name": "#%%\n"
    }
   },
   "outputs": [
    {
     "name": "stdout",
     "output_type": "stream",
     "text": [
      "Prediction: 20570.519993480193, True Value 19000.0\n",
      "Prediction: 25866.622230494493, True Value 29000.0\n",
      "Prediction: 40860.428547107906, True Value 45000.0\n",
      "Prediction: 25866.622230494493, True Value 35000.0\n",
      "Prediction: 25866.622230494493, True Value 35000.0\n"
     ]
    }
   ],
   "source": [
    "predictions = sc_y.inverse_transform(tree_predictions[:5])\n",
    "values = test_df['last_price']\n",
    "for pred, val in zip(predictions,values):\n",
    "    print(\"Prediction: {}, True Value {}\".format(pred, val))"
   ]
  },
  {
   "cell_type": "code",
   "execution_count": 24,
   "metadata": {
    "pycharm": {
     "name": "#%%\n"
    }
   },
   "outputs": [
    {
     "name": "stdout",
     "output_type": "stream",
     "text": [
      "MAE: 0.3622764602723795\n",
      "MSE: 0.40126867222258794\n",
      "RMSE: 0.6334577114714035\n"
     ]
    }
   ],
   "source": [
    "\n",
    "print('MAE:', metrics.mean_absolute_error(y_valid, tree_predictions))\n",
    "print('MSE:', metrics.mean_squared_error(y_valid, tree_predictions))\n",
    "print('RMSE:', np.sqrt(metrics.mean_squared_error(y_valid, tree_predictions)))\n"
   ]
  },
  {
   "cell_type": "code",
   "execution_count": 25,
   "metadata": {
    "pycharm": {
     "name": "#%%\n"
    }
   },
   "outputs": [],
   "source": [
    "##Building linear regression "
   ]
  },
  {
   "cell_type": "code",
   "execution_count": 26,
   "metadata": {
    "pycharm": {
     "name": "#%%\n"
    }
   },
   "outputs": [
    {
     "name": "stdout",
     "output_type": "stream",
     "text": [
      "MAE: 0.38499143216286413\n",
      "MSE: 0.41607838402954517\n",
      "RMSE: 0.6450413816411666\n"
     ]
    }
   ],
   "source": [
    "from sklearn.linear_model import LinearRegression\n",
    "model = LinearRegression()\n",
    "model.fit(X_train, y_train)\n",
    "print('MAE:', metrics.mean_absolute_error(y_valid, model.predict(X_valid)))\n",
    "print('MSE:', metrics.mean_squared_error(y_valid, model.predict(X_valid)))\n",
    "print('RMSE:', np.sqrt(metrics.mean_squared_error(y_valid, model.predict(X_valid))))"
   ]
  },
  {
   "cell_type": "code",
   "execution_count": 27,
   "metadata": {
    "pycharm": {
     "name": "#%%\n"
    }
   },
   "outputs": [],
   "source": [
    "##Building random forest regressor "
   ]
  },
  {
   "cell_type": "code",
   "execution_count": 28,
   "metadata": {
    "pycharm": {
     "name": "#%%\n"
    }
   },
   "outputs": [
    {
     "name": "stdout",
     "output_type": "stream",
     "text": [
      "MAE: 0.36051776113899253\n",
      "MSE: 0.42237049038634955\n",
      "RMSE: 0.6499003695847153\n"
     ]
    },
    {
     "name": "stderr",
     "output_type": "stream",
     "text": [
      "<ipython-input-28-ae02bbe15cd1>:6: DataConversionWarning: A column-vector y was passed when a 1d array was expected. Please change the shape of y to (n_samples,), for example using ravel().\n",
      "  random_forest_model.fit(X_train, y_train)\n"
     ]
    }
   ],
   "source": [
    "random_forest_model = RandomForestRegressor(n_estimators=10,\n",
    "                                    bootstrap=0.8,\n",
    "                                    max_depth=10,\n",
    "                                    min_samples_split=3,\n",
    "                                    max_features=1)\n",
    "random_forest_model.fit(X_train, y_train)\n",
    "predictions = random_forest_model.predict(X_valid)\n",
    "print('MAE:', metrics.mean_absolute_error(y_valid, predictions))\n",
    "print('MSE:', metrics.mean_squared_error(y_valid, predictions))\n",
    "print('RMSE:', np.sqrt(metrics.mean_squared_error(y_valid, predictions)))"
   ]
  },
  {
   "cell_type": "code",
   "execution_count": 29,
   "metadata": {
    "pycharm": {
     "name": "#%%\n"
    }
   },
   "outputs": [
    {
     "data": {
      "image/png": "[encoded data removed]",
      "text/plain": [
       "<Figure size 1152x576 with 1 Axes>"
      ]
     },
     "metadata": {},
     "output_type": "display_data"
    }
   ],
   "source": [
    "plt.figure(figsize=(16,8))\n",
    "plt.plot(sc_y.inverse_transform(y_valid),label ='Test', color= 'blue')\n",
    "plt.plot(sc_y.inverse_transform(predictions), label = 'predict', color = 'orange')\n",
    "plt.show()"
   ]
  },
  {
   "cell_type": "code",
   "execution_count": 30,
   "metadata": {
    "pycharm": {
     "name": "#%%\n"
    }
   },
   "outputs": [
    {
     "name": "stdout",
     "output_type": "stream",
     "text": [
      "MAE: 0.3781550313872402\n",
      "MSE: 0.45542299316701224\n",
      "RMSE: 0.6748503487196345\n"
     ]
    }
   ],
   "source": [
    "from catboost import CatBoostRegressor\n",
    "catboost_model = CatBoostRegressor(iterations=1500, \n",
    "                                 depth=7,\n",
    "                                 learning_rate=0.08,\n",
    "                                 logging_level='Silent',\n",
    "                                 thread_count=10,\n",
    "                                 random_seed=27)\n",
    "# train the model on training dataset\n",
    "catboost_model.fit(X_train, y_train)\n",
    "predictions = catboost_model.predict(X_valid)\n",
    "print('MAE:', metrics.mean_absolute_error(y_valid, predictions))\n",
    "print('MSE:', metrics.mean_squared_error(y_valid, predictions))\n",
    "print('RMSE:', np.sqrt(metrics.mean_squared_error(y_valid, predictions)))"
   ]
  },
  {
   "cell_type": "code",
   "execution_count": 31,
   "metadata": {
    "pycharm": {
     "name": "#%%\n"
    }
   },
   "outputs": [
    {
     "data": {
      "image/png": "[encoded data removed]",
      "text/plain": [
       "<Figure size 1152x576 with 1 Axes>"
      ]
     },
     "metadata": {},
     "output_type": "display_data"
    }
   ],
   "source": [
    "plt.figure(figsize=(16,8))\n",
    "plt.plot(sc_y.inverse_transform(y_valid),label ='Test', color= 'blue')\n",
    "plt.plot(sc_y.inverse_transform(predictions), label = 'predict', color = 'orange')\n",
    "plt.show()"
   ]
  },
  {
   "cell_type": "code",
   "execution_count": 32,
   "metadata": {
    "pycharm": {
     "name": "#%%\n"
    }
   },
   "outputs": [],
   "source": [
    "import joblib"
   ]
  },
  {
   "cell_type": "code",
   "execution_count": 33,
   "metadata": {
    "pycharm": {
     "name": "#%%\n"
    }
   },
   "outputs": [
    {
     "data": {
      "text/plain": [
       "['catboost_model.pkl']"
      ]
     },
     "execution_count": 33,
     "metadata": {},
     "output_type": "execute_result"
    }
   ],
   "source": [
    "\n",
    "joblib.dump(sc_X, 'scaler_x.pkl')\n",
    "joblib.dump(sc_y, 'scaler_y.pkl')\n",
    "joblib.dump(random_forest_model, 'random_forest_model.pkl')\n",
    "joblib.dump(catboost_model, 'catboost_model.pkl')"
   ]
  },
  {
   "cell_type": "markdown",
   "metadata": {
    "pycharm": {
     "name": "#%% md\n"
    }
   },
   "source": [
    "### Self-control stops\n",
    "1. Compete with other teams to create the best solution. You can play with factors and algorithm parameters to come up with it."
   ]
  },
  {
   "cell_type": "code",
   "execution_count": 34,
   "metadata": {
    "pycharm": {
     "name": "#%%\n"
    }
   },
   "outputs": [],
   "source": [
    "# Winner: random forest"
   ]
  },
  {
   "cell_type": "code",
   "execution_count": null,
   "metadata": {
    "pycharm": {
     "name": "#%%\n"
    }
   },
   "outputs": [],
   "source": []
  }
 ],
 "metadata": {
  "kernelspec": {
   "display_name": "Python 3",
   "language": "python",
   "name": "python3"
  },
  "language_info": {
   "codemirror_mode": {
    "name": "ipython",
    "version": 3
   },
   "file_extension": ".py",
   "mimetype": "text/x-python",
   "name": "python",
   "nbconvert_exporter": "python",
   "pygments_lexer": "ipython3",
   "version": "3.8.6"
  }
 },
 "nbformat": 4,
 "nbformat_minor": 2
}